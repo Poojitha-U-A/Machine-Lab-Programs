{
 "cells": [
  {
   "cell_type": "code",
   "execution_count": 61,
   "metadata": {},
   "outputs": [
    {
     "name": "stdout",
     "output_type": "stream",
     "text": [
      "Accuracy: 0.67\n",
      "[[16  0  0]\n",
      " [ 1  5 12]\n",
      " [ 0  2  9]]\n"
     ]
    }
   ],
   "source": [
    "import numpy as np \n",
    "import pandas as pd \n",
    "import matplotlib.pyplot as plt\n",
    "\n",
    "from sklearn import tree, metrics, model_selection, preprocessing\n",
    "\n",
    " \n",
    " \n",
    "\n",
    "df = pd.read_csv('iris.csv')\n",
    "\n",
    "df.head(5) \n",
    "\n",
    " \n",
    "\n",
    "df['species_label'],i = pd.factorize(df['species'])\n",
    "\n",
    "df['species'].unique() \n",
    "\n",
    "df['species_label'].unique() \n",
    "\n",
    " \n",
    "\n",
    " \n",
    "\n",
    "\n",
    "y = df['species_label']\n",
    "\n",
    "X = df[['sepal.length', 'sepal.width']]\n",
    "\n",
    " \n",
    "\n",
    "X_train, X_test, y_train,y_test = model_selection.train_test_split(X,y,test_size=0.3, random_state=0)\n",
    "\n",
    " \n",
    "\n",
    " \n",
    " \n",
    "\n",
    "dtree = tree.DecisionTreeClassifier(criterion='entropy' , max_depth=3) \n",
    "\n",
    "dtree.fit(X_train, y_train) \n",
    "\n",
    " \n",
    " \n",
    "\n",
    "y_pred = dtree.predict(X_test) \n",
    "\n",
    " \n",
    "\n",
    "accuracy = metrics.accuracy_score(y_test, y_pred)\n",
    "\n",
    "print('Accuracy: {:.2f}'.format(accuracy)) \n",
    "\n",
    " \n",
    "\n",
    " \n",
    "from sklearn.metrics import  confusion_matrix \n",
    "\n",
    "print(confusion_matrix(y_test, y_pred))"
   ]
  },
  {
   "cell_type": "code",
   "execution_count": null,
   "metadata": {},
   "outputs": [],
   "source": []
  }
 ],
 "metadata": {
  "kernelspec": {
   "display_name": "Python 3",
   "language": "python",
   "name": "python3"
  },
  "language_info": {
   "codemirror_mode": {
    "name": "ipython",
    "version": 3
   },
   "file_extension": ".py",
   "mimetype": "text/x-python",
   "name": "python",
   "nbconvert_exporter": "python",
   "pygments_lexer": "ipython3",
   "version": "3.7.6"
  }
 },
 "nbformat": 4,
 "nbformat_minor": 4
}
